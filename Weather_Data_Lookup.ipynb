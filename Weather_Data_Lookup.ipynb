{
 "cells": [
  {
   "cell_type": "code",
   "execution_count": 1,
   "id": "93fa9d47-cbf4-4cc8-9568-b99a004fc158",
   "metadata": {},
   "outputs": [
    {
     "name": "stdin",
     "output_type": "stream",
     "text": [
      "Enter a city name:  jagtial\n"
     ]
    },
    {
     "name": "stdout",
     "output_type": "stream",
     "text": [
      "\n",
      "Weather report for jagtial:\n",
      "Temperature: 19°C\n",
      "Condition: Cloudy\n",
      "Humidity: 60%\n"
     ]
    },
    {
     "name": "stdin",
     "output_type": "stream",
     "text": [
      "\n",
      "Would you like to check another city? (yes/no):  yes\n",
      "Enter a city name:  karimnagar\n"
     ]
    },
    {
     "name": "stdout",
     "output_type": "stream",
     "text": [
      "\n",
      "Weather report for karimnagar:\n",
      "Temperature: 25°C\n",
      "Condition: Sunny\n",
      "Humidity: 30%\n"
     ]
    },
    {
     "name": "stdin",
     "output_type": "stream",
     "text": [
      "\n",
      "Would you like to check another city? (yes/no):  yes\n",
      "Enter a city name:  hyderabad\n"
     ]
    },
    {
     "name": "stdout",
     "output_type": "stream",
     "text": [
      "\n",
      "Weather report for hyderabad:\n",
      "Temperature: 22°C\n",
      "Condition: Windy\n",
      "Humidity: 40%\n"
     ]
    },
    {
     "name": "stdin",
     "output_type": "stream",
     "text": [
      "\n",
      "Would you like to check another city? (yes/no):  yes\n",
      "Enter a city name:  mumbai\n"
     ]
    },
    {
     "name": "stdout",
     "output_type": "stream",
     "text": [
      "City not found in the weather database. Please try another city.\n"
     ]
    },
    {
     "name": "stdin",
     "output_type": "stream",
     "text": [
      "\n",
      "Would you like to check another city? (yes/no):  no\n"
     ]
    },
    {
     "name": "stdout",
     "output_type": "stream",
     "text": [
      "Thank you for using the weather lookup!\n"
     ]
    }
   ],
   "source": [
    "# Weather data for various cities stored in a dictionary\n",
    "weather_data = {\n",
    "    \"jagtial\": {\"temp\": 19, \"condition\": \"Cloudy\", \"humidity\": 60},\n",
    "    \"karimnagar\": {\"temp\": 25, \"condition\": \"Sunny\", \"humidity\": 30},\n",
    "    \"hyderabad\": {\"temp\": 22, \"condition\": \"Windy\", \"humidity\": 40},\n",
    "}\n",
    "def weather_report():\n",
    "    city = input(\"Enter a city name: \").lower()  # Convert city name to lower case\n",
    "\n",
    "    # Check if the city is in the weather data\n",
    "    if city in weather_data:\n",
    "        city_info = weather_data[city]\n",
    "       \n",
    "        print(f\"\\nWeather report for {city}:\") \n",
    "        print(f\"Temperature: {city_info['temp']}°C\")\n",
    "        print(f\"Condition: {city_info['condition']}\")\n",
    "        print(f\"Humidity: {city_info['humidity']}%\")\n",
    "    else:\n",
    "        # If the city is not in the weather database\n",
    "        print(\"City not found in the weather database. Please try another city.\")\n",
    "\n",
    "\n",
    "def report():\n",
    "    while True:\n",
    "        weather_report()  # Call the weather report function\n",
    "        \n",
    "        # Ask user if they want to check another city\n",
    "        check_another = input(\"\\nWould you like to check another city? (yes/no): \").lower()\n",
    "        if check_another != 'yes':  # Exit loop if the user doesn't want to continue\n",
    "            print(\"Thank you for using the weather lookup!\")\n",
    "            break\n",
    "\n",
    "# Run the weather report system\n",
    "report()\n"
   ]
  },
  {
   "cell_type": "code",
   "execution_count": null,
   "id": "adcbde37-204b-4c14-a884-ea40b0385909",
   "metadata": {},
   "outputs": [],
   "source": []
  },
  {
   "cell_type": "code",
   "execution_count": null,
   "id": "c291996b-7908-4ccb-9be8-f602a9bc4a58",
   "metadata": {},
   "outputs": [],
   "source": []
  },
  {
   "cell_type": "code",
   "execution_count": null,
   "id": "9d930691-c866-47b1-b233-996c378ed1fd",
   "metadata": {},
   "outputs": [],
   "source": []
  },
  {
   "cell_type": "code",
   "execution_count": null,
   "id": "2bd37480-2f6a-4171-bedb-758fd3609550",
   "metadata": {},
   "outputs": [],
   "source": []
  },
  {
   "cell_type": "code",
   "execution_count": null,
   "id": "10f9ab05-5827-4aa8-93e1-76cbe3fc0f5d",
   "metadata": {},
   "outputs": [],
   "source": []
  }
 ],
 "metadata": {
  "kernelspec": {
   "display_name": "Python 3 (ipykernel)",
   "language": "python",
   "name": "python3"
  },
  "language_info": {
   "codemirror_mode": {
    "name": "ipython",
    "version": 3
   },
   "file_extension": ".py",
   "mimetype": "text/x-python",
   "name": "python",
   "nbconvert_exporter": "python",
   "pygments_lexer": "ipython3",
   "version": "3.12.4"
  }
 },
 "nbformat": 4,
 "nbformat_minor": 5
}
